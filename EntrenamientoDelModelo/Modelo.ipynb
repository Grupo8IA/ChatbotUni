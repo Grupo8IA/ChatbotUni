{
  "nbformat": 4,
  "nbformat_minor": 2,
  "metadata": {
    "accelerator": "GPU",
    "colab": {
      "name": "Modelo.ipynb",
      "provenance": [],
      "collapsed_sections": []
    },
    "kernelspec": {
      "display_name": "Python 3",
      "language": "python",
      "name": "python3"
    },
    "language_info": {
      "codemirror_mode": {
        "name": "ipython",
        "version": 3
      },
      "file_extension": ".py",
      "mimetype": "text/x-python",
      "name": "python",
      "nbconvert_exporter": "python",
      "pygments_lexer": "ipython3",
      "version": "3.8.8"
    },
    "latex_envs": {
      "LaTeX_envs_menu_present": true,
      "autoclose": false,
      "autocomplete": true,
      "bibliofile": "biblio.bib",
      "cite_by": "apalike",
      "current_citInitial": 1,
      "eqLabelWithNumbers": true,
      "eqNumInitial": 1,
      "hotkeys": {
        "equation": "Ctrl-E",
        "itemize": "Ctrl-I"
      },
      "labels_anchors": false,
      "latex_user_defs": false,
      "report_style_numbering": false,
      "user_envs_cfg": false
    },
    "toc": {
      "base_numbering": 1,
      "nav_menu": {},
      "number_sections": true,
      "sideBar": true,
      "skip_h1_title": false,
      "title_cell": "Table of Contents",
      "title_sidebar": "Contents",
      "toc_cell": false,
      "toc_position": {},
      "toc_section_display": true,
      "toc_window_display": false
    }
  },
  "cells": [
    {
      "cell_type": "markdown",
      "source": [
        "# MODELO\n",
        "\n"
      ],
      "metadata": {
        "id": "pq3ziQeUmC5K"
      }
    },
    {
      "cell_type": "markdown",
      "source": [
        "## PREPARACIÓN DE LA DATA"
      ],
      "metadata": {
        "id": "k8IibjRfnwN9"
      }
    },
    {
      "cell_type": "markdown",
      "source": [
        "El proceso de preparación de la data para el modelo de entrenamiento consiste en obtener listas de vectores, cada vector contiene la sentencia de pregunta y la sentencia de respuesta. En este proceso también hacemos un mapeo de cada palabra a índices y de índice palabras, esto se almacenará en diccionarios, además de llevar el conteo de cuántas veces una palabra se repite. Esto nos permitirá obtener el índice que le corresponde a cada palabra y viceversa."
      ],
      "metadata": {
        "id": "No68nVceltdz"
      }
    },
    {
      "cell_type": "code",
      "execution_count": null,
      "source": [
        "from google.colab import drive\r\n",
        "drive.mount('/gdrive')\r\n",
        "%cd /gdrive/MyDrive/iA"
      ],
      "outputs": [
        {
          "output_type": "stream",
          "name": "stdout",
          "text": [
            "Mounted at /gdrive\n",
            "/gdrive/.shortcut-targets-by-id/1ccQ0NRVtxcnMDQHOrldbGFQDfXPWk9Jj/iA\n"
          ]
        }
      ],
      "metadata": {
        "colab": {
          "base_uri": "https://localhost:8080/"
        },
        "id": "JMpxC_Gqr6Nx",
        "outputId": "75920fad-b5c2-4212-ff1e-ea70019ecd23"
      }
    },
    {
      "cell_type": "code",
      "execution_count": null,
      "source": [
        "%ls"
      ],
      "outputs": [
        {
          "output_type": "stream",
          "name": "stdout",
          "text": [
            "20.txt\n",
            "BackwardForward.ipynb\n",
            "checkpoint-10ML-30ep-META-512bz-loss29-valoss41.pt\n",
            "checkpoint-10ML-30ep-META-512bz-loss30-valoss41-con-tildes.pt\n",
            "checkpoint-10ML-60ep-META-512bz-loss26-valoss46-con-tildes2.pt\n",
            "checkpoint-15ML-20EP.pt\n",
            "checkpoint-15ML-30ep-META-512bz-loss40-valoss54-con-tildes.pt\n",
            "checkpoint-20ML-15ep-data-METALW-512bz-con-tildes-300em-300h.pt\n",
            "checkpoint-20ML-25ep-data-METALW-512bz-con-tildes-300em-300h.pt\n",
            "checkpoint-25ML-13EP-300BS.pt\n",
            "checkpoint-25ML-15ep-data-METALW-512bz-con-tildes-200em-200h.pt\n",
            "checkpoint-25ML-25ep-data-METALW-512bz-con-tildes-200em-200h.pt\n",
            "checkpoint2.pt\n",
            "checkpoint-50ML-20EP.pt\n",
            "checkpoint.pt\n",
            "\u001b[0m\u001b[01;34mcontinnuacion\u001b[0m/\n",
            "cultura_general_1\n",
            "data_freider.txt\n",
            "\u001b[01;34mData_PC2\u001b[0m/\n",
            "final.txt\n",
            "GRL_Book.pdf\n",
            "METALW.txt\n"
          ]
        }
      ],
      "metadata": {
        "colab": {
          "base_uri": "https://localhost:8080/"
        },
        "id": "-yAFs-CzWAp3",
        "outputId": "825a839f-f3db-4fc3-9592-4add62b12d3f"
      }
    },
    {
      "cell_type": "code",
      "execution_count": null,
      "source": [
        "import torch\r\n",
        "from torch.jit import script\r\n",
        "import torch.nn as nn\r\n",
        "import random\r\n",
        "import re\r\n",
        "import unicodedata\r\n",
        "from io import open\r\n",
        "import itertools\r\n",
        "from tqdm import tqdm\r\n",
        "\r\n",
        "import numpy as np\r\n",
        "import pandas as pd\r\n",
        "from sklearn.model_selection import train_test_split\r\n",
        "\r\n",
        "MAX_LENGTH = 10 # Cantidad de palabras máxima por cada sentencia"
      ],
      "outputs": [],
      "metadata": {
        "id": "AoFvqUsfkFGm"
      }
    },
    {
      "cell_type": "code",
      "execution_count": null,
      "source": [
        "# Definiciones:\r\n",
        "#   Linea: Pares de sentencias separadas por un padding \\t\r\n",
        "#   Sentencia: Texto de la pregunta o la respuesta.\r\n",
        "#   Par: Un vector, cada vector contiene dos senticias: pregunta y la respuesta\r\n",
        "\r\n",
        "PAD_token = 0  # Token para rellenar las sentencias con una cantidad menor a MAX_LENGTH\r\n",
        "SOS_token = 1  # Token que indica el inicio de la sentencia\r\n",
        "EOS_token = 2  # Token que indica el final de la sentencia\r\n",
        "\r\n",
        "# Objeto Voc: \r\n",
        "#   Procesará cada sentencia de cada línea. \r\n",
        "#   Nos ayudará a generar una mapeo de cada palabra a indices (números)\r\n",
        "#   lo que permitirá obtener el índice que corresponde a cada palabra, la palabra que le\r\n",
        "#   corresponde a cada índice y la cantidad de veces que una palabra se repíte.\r\n",
        "class Voc:\r\n",
        "    def __init__(self, name):\r\n",
        "        self.name = name\r\n",
        "        self.trimmed = False\r\n",
        "        self.word2index = {\"PAD\":PAD_token , \"SOS\":SOS_token , \"EOS\":EOS_token }\r\n",
        "        self.word2count = {}\r\n",
        "        self.index2word = {PAD_token: \"PAD\", SOS_token: \"SOS\", EOS_token: \"EOS\"}\r\n",
        "        self.num_words = 3  # Los 3 tokens inicializados SOS, EOS, PAD\r\n",
        "\r\n",
        "    def agregarSentencia(self, sentence):\r\n",
        "        for word in sentence.split(' '):\r\n",
        "            self.agregarPalabra(word)\r\n",
        "\r\n",
        "    def agregarPalabra(self, word):\r\n",
        "        if word not in self.word2index:\r\n",
        "            self.word2index[word] = self.num_words\r\n",
        "            self.word2count[word] = 1\r\n",
        "            self.index2word[self.num_words] = word\r\n",
        "            self.num_words += 1\r\n",
        "        else:\r\n",
        "            self.word2count[word] += 1\r\n",
        "\r\n",
        "    def indiceDeSentencia(self, sentencia):\r\n",
        "        return [self.word2index[word] for word in sentencia.split(' ')] + [EOS_token]\r\n",
        "\r\n",
        "    def sentenciaDeIndice(self, indice):\r\n",
        "        return [self.index2word[idx] for idx in indice]\r\n",
        "\r\n",
        "    # Remueve las palabras que se repiten menos de una cierta cantidad de veces\r\n",
        "    def trim(self, min_count):\r\n",
        "        if self.trimmed:\r\n",
        "            return\r\n",
        "        self.trimmed = True\r\n",
        "\r\n",
        "        keep_words = []\r\n",
        "\r\n",
        "        for k, v in self.word2count.items():\r\n",
        "            if v >= min_count:\r\n",
        "                keep_words.append(k)\r\n",
        "\r\n",
        "        print('keep_words {} / {} = {:.4f}'.format(\r\n",
        "            len(keep_words), len(self.word2index), len(keep_words) / len(self.word2index)\r\n",
        "        ))\r\n",
        "\r\n",
        "        # Reinicializamos los diccionarios\r\n",
        "        self.word2index = {\"PAD\":PAD_token , \"SOS\":SOS_token , \"EOS\":EOS_token }\r\n",
        "        self.word2count = {}\r\n",
        "        self.index2word = {PAD_token: \"PAD\", SOS_token: \"SOS\", EOS_token: \"EOS\"}\r\n",
        "        self.num_words = 3 # Los 3 tokens inicializados SOS, EOS, PAD\r\n",
        "\r\n",
        "        for word in keep_words:\r\n",
        "            self.agregarPalabra(word)"
      ],
      "outputs": [],
      "metadata": {
        "id": "COocxGdvfALW"
      }
    },
    {
      "cell_type": "code",
      "execution_count": null,
      "source": [
        "# Función que normalizará cada sentencia\r\n",
        "def unicodeToAscii(s):\r\n",
        "    return ''.join(\r\n",
        "        # c for c in unicodedata.normalize('NFD', s) # Normalizará y eliminará las tildes y la ñ\r\n",
        "        c for c in unicodedata.normalize('NFC', s) # Normalizará y mantiene las tildes y la ñ\r\n",
        "        if unicodedata.category(c) != 'Mn'\r\n",
        "    )\r\n",
        "\r\n",
        "# Normalizamos cada sentencia\r\n",
        "def normalizeString(s):\r\n",
        "    s = unicodeToAscii(s.lower().strip()) # Normalizamos y pasamos todas las letras a minúsculas\r\n",
        "    # Pasamos cada sentencia a minúsculas, removemos los espacios y carácteres que no son letras excluyendo los números\r\n",
        "    s = re.sub(r\"([.¡!¿?])\", r\" \\1\", s)  # Mantenemos los signos interrogación y exclamación de apertura y cierre\r\n",
        "    s = re.sub(r\"[^A-zÁ-ú.¡!¿?0-9]+\", r\" \", s) # Mantenemos las tildes y números\r\n",
        "    # s = re.sub(r\"\\¿\", r\"¿ \", s) # Agregamos un espacio a los signos de interrogación para que se cuente como una palabra\r\n",
        "    # s = re.sub(r\"\\?\", r\" ?\", s) # Agregamos un espacio a los signos de interrogación para que se cuente como una palabra\r\n",
        "    # s = re.sub(r\"\\¡\", r\"¡ \", s) # Agregamos un espacio a los signos de exclamación para que se cuente como una palabra\r\n",
        "    # s = re.sub(r\"\\!\", r\" !\", s) # Agregamos un espacio a los signos de exclamación para que se cuente como una palabra\r\n",
        "    # s = re.sub(r\"\\s+\", r\" \", s).strip() # Eliminamos los espacios demás\r\n",
        "    # s = re.sub(r\"\\.\", r\"\", s).strip() # Eliminamos los puntos\r\n",
        "\r\n",
        "    # s = re.sub(r\"[^A-z.¡!¿?0-9]+\", r\" \", s) # Elimina tildes\r\n",
        "    s = re.sub(r\"\\.\", r\"\", s)\r\n",
        "    s = re.sub(r\"\\¿\\s+\", r\"¿\", s) # Elimina espacios alrededor del signo de interrogación\r\n",
        "    s = re.sub(r\"\\s+\\?\", r\"?\", s) # Elimina espacios alrededor del signo de interrogación\r\n",
        "    s = re.sub(r\"\\¡\\s\", r\"¡\", s) # Elimina espacios alrededor del signo de exclamación\r\n",
        "    s = re.sub(r\"\\!\\s\", r\"!\", s) # Elimina espacios alrededor del signo de exclamación\r\n",
        "    s = re.sub(r\"\\s+\", r\" \", s).strip() # Elimina los espacios demás\r\n",
        "    return s\r\n",
        "\r\n",
        "\r\n",
        "\r\n",
        "# Leemos las lineas del archivo y devolvemos los pares y un objeto Voc\r\n",
        "def readVocs(datafile, corpus_name):\r\n",
        "    print(\"Leyendo líneas...\")\r\n",
        "    # Leemos el archivo y devuelve una lista de líneas\r\n",
        "    lines = open(datafile, encoding='utf-8').\\\r\n",
        "        read().strip().split('\\n')\r\n",
        "    # Dividimos cada linea en pares, normaliza normalizando cada sentencia\r\n",
        "    pairs = [[normalizeString(s) for s in l.split('\\t')] for l in lines]\r\n",
        "    voc = Voc(corpus_name)\r\n",
        "    # Devuelve el objeto vocabulario y los pares\r\n",
        "    return voc, pairs\r\n",
        "\r\n",
        "# Retorna True si ambas sentencias en el par tienen una cantidad de palabras menores que MAX_LENGTH\r\n",
        "def filtrarPar(p):\r\n",
        "    # Las sentencias de entrada, necesitamos un espacio para el token SOS\r\n",
        "    return len(p[0].split(' ')) < MAX_LENGTH and len(p[1].split(' ')) < MAX_LENGTH\r\n",
        "\r\n",
        "# Filtra los pares usando la función filtrarPar\r\n",
        "def filtrarPares(pairs):\r\n",
        "    return [pair for pair in pairs if filtrarPar(pair)]\r\n",
        "\r\n",
        "# Usando las funciones definidas arriba generamos el diccionario que mapea de palabras a índices\r\n",
        "# devolverá el objeto voc y la lista de pares\r\n",
        "def loadPrepareData(corpus, corpus_name, datafile, save_dir):\r\n",
        "    print(\"Empieza la preparación de la data ...\")\r\n",
        "    voc, pairs = readVocs(datafile, corpus_name)\r\n",
        "    print(\"Se leyó {!s} pares de sentencias\".format(len(pairs)))\r\n",
        "    pairs = filtrarPares(pairs)\r\n",
        "    print(\"Filtrado {!s} pares de sentencias\".format(len(pairs)))\r\n",
        "    print(\"Contando las palabras...\")\r\n",
        "\r\n",
        "    for pair in pairs:\r\n",
        "        # Agregamos cada sentencia al objeto Voc para hacer el mapeo\r\n",
        "        voc.agregarSentencia(pair[0])\r\n",
        "        voc.agregarSentencia(pair[1])\r\n",
        "        \r\n",
        "    print(\"Cantidad total de palabras:\", voc.num_words)\r\n",
        "    \r\n",
        "    \r\n",
        "    return voc, pairs\r\n",
        "\r\n",
        "\r\n",
        "\r\n",
        "save_dir = \"./\"\r\n",
        "datafile = \"METALW.txt\"\r\n",
        "corpus = \"./\"\r\n",
        "corpus_name = \"dataf_s2s\"\r\n",
        "voc, pairs = loadPrepareData(corpus, corpus_name, datafile, save_dir)\r\n",
        "\r\n",
        "# Imprimimos una muestra de la data para verificar su estructura\r\n",
        "print(\"\\npares:\")\r\n",
        "\r\n",
        "for pair in pairs[:10]:\r\n",
        "    print(pair)\r\n",
        "\r\n",
        "# Fuente: https://pytorch.org/tutorials/beginner/chatbot_tutorial.html?highlight=chatbot%20tutorial"
      ],
      "outputs": [
        {
          "output_type": "stream",
          "name": "stdout",
          "text": [
            "Empieza la preparación de la data ...\n",
            "Leyendo líneas...\n",
            "Se leyó 319593 pares de sentencias\n",
            "Filtrado 175166 pares de sentencias\n",
            "Contando las palabras...\n",
            "Cantidad total de palabras: 40305\n",
            "\n",
            "pares:\n",
            "['hola ¿en qué puedo ayudarle?', 'sí']\n",
            "['sí', '¿cómo puedo ser de ayuda?']\n",
            "['¿cómo puedo ser de ayuda?', 'quiero saber sobre la política que tengo']\n",
            "['quiero saber sobre la política que tengo', 'bien ¿puedo conseguir tu nombre por favor?']\n",
            "['bien ¿puedo conseguir tu nombre por favor?', '¿cubre los daños causados por el agua?']\n",
            "['hola ¿en qué puedo ayudarle?', 'tengo una pregunta sobre mi política']\n",
            "['tengo una pregunta sobre mi política', 'seguro ¿puedes decirme tu número de póliza?']\n",
            "['seguro ¿puedes decirme tu número de póliza?', '3425512']\n",
            "['3425512', 'bien tengo tu póliza aquí ¿cuál es tu pregunta?']\n",
            "['bien tengo tu póliza aquí ¿cuál es tu pregunta?', 'cubre los daños causados por el agua?']\n"
          ]
        }
      ],
      "metadata": {
        "colab": {
          "base_uri": "https://localhost:8080/"
        },
        "id": "ltLAHNyz9K3F",
        "scrolled": true,
        "outputId": "a3dee3f6-86cf-4607-cb5a-c357af2502fa"
      }
    },
    {
      "cell_type": "markdown",
      "source": [
        "La clase Dataset se va encargar de convertir en tensores la entrada y salida del conjunto de entrenamiento, y completar con la palabra clave 'PAD' a la entrada y salida si su longitud es menor a la longitud maxima establecida"
      ],
      "metadata": {
        "id": "W-3TV8_rCPc8"
      }
    },
    {
      "cell_type": "code",
      "execution_count": null,
      "source": [
        "# comprobar si el entorno usa gpu o cpu\r\n",
        "device = \"cuda\" if torch.cuda.is_available() else \"cpu\"\r\n",
        "\r\n",
        "class Dataset(torch.utils.data.Dataset):\r\n",
        "    def __init__(self, entrada_voc, salida_voc, pares, max_length):\r\n",
        "        self.entrada_voc = entrada_voc\r\n",
        "        self.salida_voc = salida_voc\r\n",
        "        self.pares = pares\r\n",
        "        self.max_length = max_length\r\n",
        "    \r\n",
        "    def __len__(self):\r\n",
        "        return len(self.pares)\r\n",
        "        \r\n",
        "    def __getitem__(self, ind): \r\n",
        "        # la entrada y salida se convierte en tensores       \r\n",
        "        entrada = torch.tensor(self.entrada_voc.indiceDeSentencia(self.pares[ind][0]), device=device, dtype=torch.long)\r\n",
        "        salida = torch.tensor(self.salida_voc.indiceDeSentencia(self.pares[ind][1]), device=device, dtype=torch.long)\r\n",
        "        # metemos padding a todas las frases hasta completar la longitud maxima (MAX_LENGTH)\r\n",
        "        return torch.nn.functional.pad(entrada, (0, self.max_length - len(entrada)), 'constant', self.entrada_voc.word2index['PAD']), \\\r\n",
        "            torch.nn.functional.pad(salida, (0, self.max_length - len(salida)), 'constant', self.salida_voc.word2index['PAD'])"
      ],
      "outputs": [],
      "metadata": {
        "id": "D5bAbcDjZRmN"
      }
    },
    {
      "cell_type": "code",
      "execution_count": null,
      "source": [
        "dataset = {\r\n",
        "    'train': Dataset(voc, voc, pairs, max_length=MAX_LENGTH),\r\n",
        "}\r\n",
        "\r\n",
        "len(dataset['train'])"
      ],
      "outputs": [
        {
          "output_type": "execute_result",
          "data": {
            "text/plain": [
              "294593"
            ]
          },
          "metadata": {
            "tags": []
          },
          "execution_count": 7
        }
      ],
      "metadata": {
        "colab": {
          "base_uri": "https://localhost:8080/"
        },
        "id": "7KNzNyv6ass9",
        "outputId": "c877d09e-fd33-4bbf-f083-a7f18845a5a3"
      }
    },
    {
      "cell_type": "code",
      "execution_count": null,
      "source": [
        "entrada, salida = dataset['train'][100]\r\n",
        "# verificar si el tamaño de la entrada y salida\r\n",
        "entrada.shape, salida.shape"
      ],
      "outputs": [
        {
          "output_type": "execute_result",
          "data": {
            "text/plain": [
              "(torch.Size([20]), torch.Size([20]))"
            ]
          },
          "metadata": {
            "tags": []
          },
          "execution_count": 8
        }
      ],
      "metadata": {
        "colab": {
          "base_uri": "https://localhost:8080/"
        },
        "id": "KblpohTqbWq9",
        "outputId": "46b84618-dcbf-4910-af69-93ca7493f9aa"
      }
    },
    {
      "cell_type": "code",
      "execution_count": null,
      "source": [
        "# convierte la entrada que se encuentra en tensores a palabras de acuerdo al vocabulario\r\n",
        "voc.sentenciaDeIndice(entrada.tolist()), voc.sentenciaDeIndice(salida.tolist())"
      ],
      "outputs": [
        {
          "output_type": "execute_result",
          "data": {
            "text/plain": [
              "(['¿',\n",
              "  'cual',\n",
              "  'es',\n",
              "  'mi',\n",
              "  'prima',\n",
              "  'de',\n",
              "  'seguro',\n",
              "  'medico',\n",
              "  '?',\n",
              "  'EOS',\n",
              "  'PAD',\n",
              "  'PAD',\n",
              "  'PAD',\n",
              "  'PAD',\n",
              "  'PAD',\n",
              "  'PAD',\n",
              "  'PAD',\n",
              "  'PAD',\n",
              "  'PAD',\n",
              "  'PAD',\n",
              "  'PAD',\n",
              "  'PAD',\n",
              "  'PAD',\n",
              "  'PAD',\n",
              "  'PAD'],\n",
              " ['sus',\n",
              "  '5',\n",
              "  'dolares',\n",
              "  'al',\n",
              "  'mes',\n",
              "  'EOS',\n",
              "  'PAD',\n",
              "  'PAD',\n",
              "  'PAD',\n",
              "  'PAD',\n",
              "  'PAD',\n",
              "  'PAD',\n",
              "  'PAD',\n",
              "  'PAD',\n",
              "  'PAD',\n",
              "  'PAD',\n",
              "  'PAD',\n",
              "  'PAD',\n",
              "  'PAD',\n",
              "  'PAD',\n",
              "  'PAD',\n",
              "  'PAD',\n",
              "  'PAD',\n",
              "  'PAD',\n",
              "  'PAD'])"
            ]
          },
          "metadata": {
            "tags": []
          },
          "execution_count": 124
        }
      ],
      "metadata": {
        "colab": {
          "base_uri": "https://localhost:8080/"
        },
        "id": "t_gLJKgtcn3I",
        "outputId": "098f9300-d1a1-46d6-fbe0-2d25822e8b79"
      }
    },
    {
      "cell_type": "markdown",
      "source": [
        "## Modelo"
      ],
      "metadata": {
        "id": "vEtlCJCtDKwY"
      }
    },
    {
      "cell_type": "markdown",
      "source": [
        "Encoder\n",
        "\n"
      ],
      "metadata": {
        "id": "82tM1PIPEZxp"
      }
    },
    {
      "cell_type": "code",
      "execution_count": null,
      "source": [
        "class Encoder(torch.nn.Module):\r\n",
        "  def __init__(self, longitud_entrada, longitud_embedding=200, longitud_oculta=200, n_capas=2):\r\n",
        "    super().__init__()\r\n",
        "    # Inicializacion de la longitud del estado oculto\r\n",
        "    self.longitud_oculta = longitud_oculta\r\n",
        "    # Inicializacion del embedding\r\n",
        "    self.embedding = torch.nn.Embedding(longitud_entrada, longitud_embedding)\r\n",
        "    # Inicializacion de la red GRU\r\n",
        "    self.gru = torch.nn.GRU(longitud_embedding, longitud_oculta, num_layers=n_capas, batch_first=True)\r\n",
        "\r\n",
        "  # Definicion del forward, retorna la salida y el estado oculto\r\n",
        "  def forward(self, oraciones_entrada):\r\n",
        "    embedded = self.embedding(oraciones_entrada)\r\n",
        "    salidas, oculta = self.gru(embedded)\r\n",
        "    return salidas, oculta"
      ],
      "outputs": [],
      "metadata": {
        "id": "bwYBN97Lper4"
      }
    },
    {
      "cell_type": "markdown",
      "source": [
        "Decoder"
      ],
      "metadata": {
        "id": "HzLTlhaBHOsX"
      }
    },
    {
      "cell_type": "code",
      "execution_count": null,
      "source": [
        "class AtencionDecoder(torch.nn.Module):\r\n",
        "  def __init__(self, longitud_entrada, longitud_embedding=200, longitud_oculta=200, n_layers=2, longitud_maxima=MAX_LENGTH):\r\n",
        "    super().__init__()\r\n",
        "    # Inicializacion del embedding\r\n",
        "    self.embedding = torch.nn.Embedding(longitud_entrada, longitud_embedding)\r\n",
        "    # Inicializacion de la red GRU\r\n",
        "    self.gru = torch.nn.GRU(longitud_embedding, longitud_oculta, num_layers=n_layers, batch_first=True)\r\n",
        "    # Define una transformacion lineal para la salida del decoder\r\n",
        "    self.out = torch.nn.Linear(longitud_oculta, longitud_entrada)\r\n",
        "\r\n",
        "    # Define la transformacion lineal para el calculo del vector de atencion\r\n",
        "    self.atencion = torch.nn.Linear(longitud_oculta + longitud_embedding, longitud_maxima)\r\n",
        "    # Define la transformacion lineal para combinar el vector de atencion con el estado oculto del encoder\r\n",
        "    self.combinar_atencion = torch.nn.Linear(longitud_oculta * 2, longitud_oculta)\r\n",
        "\r\n",
        "  # Definicion del forward, retorna la salida, el estado oculto, y los pesos del vector de pesos de atencion\r\n",
        "  def forward(self, palabras_entrada, oculta, salidas_encoder):\r\n",
        "    embedded = self.embedding(palabras_entrada)\r\n",
        "    pesos_atencion = torch.nn.functional.softmax(self.atencion(torch.cat((embedded.squeeze(1), oculta[0]), 1)))\r\n",
        "    atencion_aplicada = torch.bmm(pesos_atencion.unsqueeze(1), salidas_encoder)\r\n",
        "    # Concatena el embedding con el vector de atencion\r\n",
        "    salida = torch.cat((embedded.squeeze(1), atencion_aplicada.squeeze(1)), 1)\r\n",
        "    salida = self.combinar_atencion(salida)\r\n",
        "    salida = torch.nn.functional.relu(salida)\r\n",
        "    salida, oculta = self.gru(salida.unsqueeze(1), oculta)\r\n",
        "    salida = self.out(salida.squeeze(1))\r\n",
        "    return salida, oculta, pesos_atencion"
      ],
      "outputs": [],
      "metadata": {
        "id": "Db5TnKnKsCIn"
      }
    },
    {
      "cell_type": "markdown",
      "source": [
        "## Entrenamiento"
      ],
      "metadata": {
        "id": "RPACSAhfMVtA"
      }
    },
    {
      "cell_type": "code",
      "execution_count": null,
      "source": [
        "def entrenamiento(encoder, decoder, epochs=10):\r\n",
        "    # manda a la cuda el encoder y decoder\r\n",
        "    encoder.to(device)\r\n",
        "    decoder.to(device)\r\n",
        "    # construccion del optimizador en el encoder y decoder con \r\n",
        "    # learning rate = 0.001\r\n",
        "    encoder_optimizador = torch.optim.Adam(encoder.parameters(), lr=1e-3)\r\n",
        "    decoder_optimizador = torch.optim.Adam(decoder.parameters(), lr=1e-3)\r\n",
        "    # función de perdida\r\n",
        "    criterion = torch.nn.CrossEntropyLoss()\r\n",
        "    for epoch in range(1, epochs+1):\r\n",
        "        encoder.train()\r\n",
        "        decoder.train()\r\n",
        "        train_perdida = []\r\n",
        "\r\n",
        "        batches = dataloader['train']\r\n",
        "        pos_batch = 0\r\n",
        "        for batch in batches:\r\n",
        "            entrada_sentencia, salida_sentencia = batch\r\n",
        "            base = entrada_sentencia.shape[0]\r\n",
        "            perdida = 0\r\n",
        "            # estableciendo en 0 las gradientes del encoder y decoder\r\n",
        "            encoder_optimizador.zero_grad()\r\n",
        "            decoder_optimizador.zero_grad()\r\n",
        "            # obteniendo el último estado oculto del encoder\r\n",
        "            encoder_salida, estado_oculto = encoder(entrada_sentencia)\r\n",
        "            # calculando las salidas del decoder\r\n",
        "            decoder_entrada = torch.tensor([[voc.word2index['SOS']] for b in range(base)], device=device)\r\n",
        "            for i in range(salida_sentencia.shape[1]):\r\n",
        "                salida, estado_oculto, peso_atencion = decoder(decoder_entrada, estado_oculto, encoder_salida)\r\n",
        "                perdida += criterion(salida, salida_sentencia[:, i].view(base))\r\n",
        "                # el siguiente entrada será la palabra que se predice\r\n",
        "                decoder_entrada = torch.argmax(salida, axis=1).view(base, 1)\r\n",
        "            # optimizacion\r\n",
        "            perdida.backward()\r\n",
        "            encoder_optimizador.step()\r\n",
        "            decoder_optimizador.step()\r\n",
        "            train_perdida.append(perdida.item())\r\n",
        "            # visualisación del error en el ultimo batch\r\n",
        "            if pos_batch == len(batches)-1:\r\n",
        "                print(f'Epoch {epoch}/{epochs} loss {np.mean(train_perdida):.5f}')\r\n",
        "            pos_batch +=1"
      ],
      "outputs": [],
      "metadata": {
        "id": "E13KSq0NMVtB"
      }
    },
    {
      "cell_type": "markdown",
      "source": [
        "## Guardado del estado del modelo"
      ],
      "metadata": {
        "id": "YParqQ0HMYAA"
      }
    },
    {
      "cell_type": "code",
      "execution_count": null,
      "source": [
        "torch.save({'encoder':encoder.state_dict(),\r\n",
        "            'decoder':decoder.state_dict()},\r\n",
        "            'checkpoint-20ML-35ep-data-METALW-512bz-con-tildes-300em-300h.pt')"
      ],
      "outputs": [],
      "metadata": {
        "id": "uRa3bIwX6-nQ"
      }
    },
    {
      "cell_type": "code",
      "execution_count": null,
      "source": [
        "encoder = Encoder(longitud_entrada=voc.num_words,  longitud_embedding=300, longitud_oculta=300).cuda()\r\n",
        "decoder = AtencionDecoder(longitud_entrada=voc.num_words,  longitud_embedding=300, longitud_oculta=300).cuda()\r\n",
        "checkpoint = torch.load('checkpoint-20ML-25ep-data-METALW-512bz-con-tildes-300em-300h.pt')\r\n",
        "encoder.load_state_dict(checkpoint['encoder'])\r\n",
        "decoder.load_state_dict(checkpoint['decoder'])"
      ],
      "outputs": [
        {
          "output_type": "execute_result",
          "data": {
            "text/plain": [
              "<All keys matched successfully>"
            ]
          },
          "metadata": {
            "tags": []
          },
          "execution_count": 18
        }
      ],
      "metadata": {
        "colab": {
          "base_uri": "https://localhost:8080/"
        },
        "id": "MTOTz7-cM8MW",
        "outputId": "9f759851-0b9e-443c-96d6-666cdcf68dd7"
      }
    },
    {
      "cell_type": "markdown",
      "source": [
        "## Predicción de la secuencia de salida"
      ],
      "metadata": {}
    },
    {
      "cell_type": "markdown",
      "source": [
        "El siguiente método nos permite convertir un texto a tensor en base a un vocabulario voc, además añadimos el caracter especial al final del tensor, para indicar fin de la secuencia"
      ],
      "metadata": {}
    },
    {
      "cell_type": "code",
      "execution_count": null,
      "source": [
        "def convertirATensor(oracion, voc):\r\n",
        "     #convertimos en una lista de palabras la oración, y le añadimos el símbolo EOS al final \r\n",
        "     listaDePalabras = [voc.word2index[palabra] for palabra in oracion.strip().split(' ')] + [EOS_token]\r\n",
        "     \r\n",
        "     #convertimos en tensor la lista de palabras\r\n",
        "     salidaTensor = torch.tensor(listaDePalabras, device=device, dtype=torch.long)\r\n",
        "     return torch.nn.functional.pad(salidaTensor,(0,MAX_LENGTH-len(salidaTensor)),'constant',voc.word2index['PAD'])  "
      ],
      "outputs": [],
      "metadata": {}
    },
    {
      "cell_type": "markdown",
      "source": [
        "Para predecir debemos convertir la oración de entrada en un tensor y pasar al encoder. Luego se toma la salida del encoder y se pasa al decoder para obtener uno a uno los terminos de la secuencia de salida."
      ],
      "metadata": {}
    },
    {
      "cell_type": "code",
      "execution_count": null,
      "source": [
        "def predecir(secuencia_de_entrada):\r\n",
        "    # obtenemos el último estado oculto del encoder\r\n",
        "    encoder_salidas, oculto = encoder(secuencia_de_entrada.unsqueeze(0))\r\n",
        "    \r\n",
        "    # calculamos las salidas del decoder de manera recurrente\r\n",
        "    decoder_entrada = torch.tensor([[voc.word2index['SOS']]], device=device)\r\n",
        "    \r\n",
        "    # inicializamos el vector de atención del decoder\r\n",
        "    decoder_atencion = torch.zeros(MAX_LENGTH, MAX_LENGTH)\r\n",
        "\r\n",
        "    # iteramos hasta que el decoder nos de el token <eos>\r\n",
        "    salidas = []\r\n",
        "    i = 0\r\n",
        "    while True and i<MAX_LENGTH:\r\n",
        "        salida, oculto, attn_pesos = decoder(decoder_entrada, oculto, encoder_salidas)\r\n",
        "        i += 1\r\n",
        "        decoder_entrada = torch.argmax(salida, axis=1).view(1, 1)\r\n",
        "        salidas.append(decoder_entrada.cpu().item())\r\n",
        "        if decoder_entrada.item() == voc.word2index['EOS']:\r\n",
        "            break\r\n",
        "    return voc.sentenciaDeIndice(salidas)"
      ],
      "outputs": [],
      "metadata": {}
    },
    {
      "cell_type": "markdown",
      "source": [
        "Ahora podemos probar el modelo, en base a una secuencia de entrada"
      ],
      "metadata": {}
    },
    {
      "cell_type": "code",
      "execution_count": null,
      "source": [
        "salidaTextual = predecir(convertirATensor(\"¿cómo te llamas?\",voc))\r\n",
        "print(salidaTextual)"
      ],
      "outputs": [],
      "metadata": {}
    }
  ]
}