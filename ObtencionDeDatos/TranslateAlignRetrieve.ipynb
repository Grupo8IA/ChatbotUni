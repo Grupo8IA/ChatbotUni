{
  "nbformat": 4,
  "nbformat_minor": 0,
  "metadata": {
    "colab": {
      "name": "TranslateAlignRetrieve.ipynb",
      "provenance": []
    },
    "kernelspec": {
      "name": "python3",
      "display_name": "Python 3"
    },
    "language_info": {
      "name": "python"
    }
  },
  "cells": [
    {
      "cell_type": "markdown",
      "metadata": {
        "id": "2xZ3o6QrZTYJ"
      },
      "source": [
        "# TranslateAlignRetrieve"
      ]
    },
    {
      "cell_type": "markdown",
      "metadata": {
        "id": "0lpn-M5Bd9MS"
      },
      "source": [
        "### Preprocesamiento de datos en formato JSON"
      ]
    },
    {
      "cell_type": "markdown",
      "metadata": {
        "id": "y0g6SQrCfIsm"
      },
      "source": [
        "Fuente: https://raw.githubusercontent.com/ccasimiro88/TranslateAlignRetrieve/master/SQuAD-es-v2.0/dev-v2.0-es_small.json\n",
        "\n",
        "Este dataset pertenece a un proyecto en la cual se aplica el método TAR diseñado e implementado para la traducción automática del Stanford Question Answering Dataset (SQuAD) al español. https://github.com/ccasimiro88/TranslateAlignRetrieve.\n",
        "\n",
        "Consiste en un objeto JSON que contiene preguntas y respuestas de cultura general."
      ]
    },
    {
      "cell_type": "code",
      "metadata": {
        "colab": {
          "base_uri": "https://localhost:8080/"
        },
        "id": "qECKZ9XeYPA3",
        "outputId": "0442bc0a-820b-4a5d-84cd-4fd8b0465ff8"
      },
      "source": [
        "!pip install requests # Librería para hacer peticiones http"
      ],
      "execution_count": 1,
      "outputs": [
        {
          "output_type": "stream",
          "text": [
            "Requirement already satisfied: requests in /usr/local/lib/python3.7/dist-packages (2.23.0)\n",
            "Requirement already satisfied: certifi>=2017.4.17 in /usr/local/lib/python3.7/dist-packages (from requests) (2021.5.30)\n",
            "Requirement already satisfied: chardet<4,>=3.0.2 in /usr/local/lib/python3.7/dist-packages (from requests) (3.0.4)\n",
            "Requirement already satisfied: idna<3,>=2.5 in /usr/local/lib/python3.7/dist-packages (from requests) (2.10)\n",
            "Requirement already satisfied: urllib3!=1.25.0,!=1.25.1,<1.26,>=1.21.1 in /usr/local/lib/python3.7/dist-packages (from requests) (1.24.3)\n"
          ],
          "name": "stdout"
        }
      ]
    },
    {
      "cell_type": "code",
      "metadata": {
        "id": "z0YG5m5kYNIa"
      },
      "source": [
        "import requests\n",
        "import json\n",
        "import re"
      ],
      "execution_count": 2,
      "outputs": []
    },
    {
      "cell_type": "code",
      "metadata": {
        "id": "FiOonP0GYjXZ"
      },
      "source": [
        "# Obtenemos los datos y lo convertimos a json\n",
        "resp = requests.get('https://raw.githubusercontent.com/ccasimiro88/TranslateAlignRetrieve/master/SQuAD-es-v2.0/dev-v2.0-es_small.json')\n",
        "data = json.loads(resp.text)[\"data\"]"
      ],
      "execution_count": 3,
      "outputs": []
    },
    {
      "cell_type": "markdown",
      "metadata": {
        "id": "ttc07PQjWVkW"
      },
      "source": [
        "Temas de las preguntas"
      ]
    },
    {
      "cell_type": "code",
      "metadata": {
        "colab": {
          "base_uri": "https://localhost:8080/"
        },
        "id": "XJEpR9LZbGHb",
        "outputId": "5ea8cfe2-0308-4639-d007-f9e3ff6461d4"
      },
      "source": [
        "for i in data:\n",
        "  print(i[\"title\"])"
      ],
      "execution_count": 4,
      "outputs": [
        {
          "output_type": "stream",
          "text": [
            "Normandos\n",
            "Complejidad computacional _ teoría\n",
            "Southern _ California\n",
            "Sky _ (Reino Unido)\n",
            "Victoria _ (Australia)\n",
            "Hugonotes\n",
            "Motor\n",
            "Oxígeno\n",
            "1973: Crisis del petróleo\n",
            "Ley Europea\n",
            "Selva Amazónica\n",
            "Ctenophora\n",
            "Fresno, California\n",
            "Conmutación de paquetes\n",
            "Muerte negra\n",
            "Geología\n",
            "Farmacia\n",
            "Desobediencia civil\n",
            "Construcción\n",
            "Escuela privada\n",
            "Universidad\n",
            "Jacksonville, Florida.\n",
            "Desigualdad económica\n",
            "Universidad de Chicago\n",
            "Dinastía Yuan\n",
            "Sistema inmune\n",
            "Intergovernmental _ Panel _ on _ Climate _ Change\n",
            "Número Prime\n",
            "Rin\n",
            "Parlamento escocés\n",
            "El islamismo\n",
            "Imperialismo\n",
            "Varsovia\n",
            "Guerra franco-india\n",
            "Fuerza\n"
          ],
          "name": "stdout"
        }
      ]
    },
    {
      "cell_type": "markdown",
      "metadata": {
        "id": "EM45D3QcWeDd"
      },
      "source": [
        "Pasamos a pares de lineas pregunta - respuesta"
      ]
    },
    {
      "cell_type": "markdown",
      "metadata": {
        "id": "e0Ce13wfX3b-"
      },
      "source": [
        "Cada \"data\" es un tema, contiene un conjunto de \"paragraphs\". En cada \"paragraphs\" tenemos un contexto \"context\" y un conjunto de preguntas y respuestas \"qas\""
      ]
    },
    {
      "cell_type": "code",
      "metadata": {
        "id": "5rYR3Fg1cs4d"
      },
      "source": [
        "\n",
        "flag = False # flag que nos permitirá obtener solo una respuesta por pregunta\n",
        "with open('cultura_general_1', 'w') as f: # guardamos la data\n",
        "  for tema in data:\n",
        "    for context in tema[\"paragraphs\"]:\n",
        "      for qas in context[\"qas\"]:\n",
        "        \n",
        "        for answer in qas[\"answers\"]:\n",
        "          if flag:\n",
        "            break\n",
        "          if len(answer[\"text\"]) > 0:\n",
        "            f.write(qas[\"question\"] + \"\\t\" + answer[\"text\"] + \"\\n\")\n",
        "          flag = True\n",
        "        flag = False\n",
        "            "
      ],
      "execution_count": 5,
      "outputs": []
    },
    {
      "cell_type": "markdown",
      "metadata": {
        "id": "kSXsYjX3kyVD"
      },
      "source": [
        "El formato del archivo que obtenemos del preprocesamiento consiste en lineas de texto, en cada línea hay una pregunta y una respuesta separadas por un tab \"\\t\". Como por ejemplo: en que pais se encuentra normandia ?\\tfrancia"
      ]
    }
  ]
}