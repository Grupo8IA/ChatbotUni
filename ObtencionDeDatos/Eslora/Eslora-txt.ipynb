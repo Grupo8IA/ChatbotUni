{
 "cells": [
  {
   "cell_type": "markdown",
   "id": "562e4eb6",
   "metadata": {},
   "source": [
    "# Obtención de data: Eslora \n",
    "## Descripción\n",
    "\n",
    "En su versión actual (la 2.0), el corpus para el estudio del español oral ESLORA contiene 60 horas de entrevistas semidirigidas y 20 horas de conversaciones de hablantes de Galicia grabadas entre los años 2007 y 2015. Los registros sonoros se transcribieron ortográficamente con alineación texto-voz para facilitar el acceso inmediato al audio desde la transcripción. En el proceso de enriquecimiento del corpus se han desarrollado recursos para la lematización y el etiquetado morfosintáctico de los textos que permiten realizar diversos tipos de búsquedas.\n",
    "\n",
    "## Limpieza\n",
    "Formato deseado para continuar con el preprocesamiento de la data: `\"Pregunta\\tRespuesta\"`\n",
    "\n"
   ]
  },
  {
   "cell_type": "code",
   "execution_count": 1,
   "id": "d505f7bf",
   "metadata": {},
   "outputs": [],
   "source": [
    "import re\n",
    "import pandas as pd"
   ]
  },
  {
   "cell_type": "markdown",
   "id": "97de7e5b",
   "metadata": {},
   "source": [
    "Primera visualización de la data"
   ]
  },
  {
   "cell_type": "code",
   "execution_count": 10,
   "id": "698b7b02",
   "metadata": {
    "scrolled": true
   },
   "outputs": [],
   "source": [
    "f = open(\"1.txt\", encoding=\"utf-8\")\n",
    "\n",
    "lista = []\n",
    "for linea in f:\n",
    "    lista.append(linea)\n",
    "f.close()"
   ]
  },
  {
   "cell_type": "code",
   "execution_count": 9,
   "id": "8fd4883d",
   "metadata": {},
   "outputs": [
    {
     "name": "stdout",
     "output_type": "stream",
     "text": [
      "hab1\tme acuerdo no sé si era italiano o por ahí\n",
      "\n",
      "hab2\tuh hm hm\n",
      "\n",
      "hab1\t<énfasis_inicio/>qué depresión Dios<énfasis_fin/>\n",
      "\n",
      "hab3\tabrió el Enate\n",
      "\n",
      "hab2\tpero <pausa/> ¿qué? <pausa/> ¿qué decía?\n",
      "\n",
      "hab1\tsí <pausa/> vale\n",
      "\n",
      "hab3\tsí\n",
      "\n",
      "hab1\t¿qué decía?\n",
      "\n",
      "hab1\t\"<ruido tipo=\"\"chasquido boca\"\"/> bueno <pausa_larga/> está claro que Mariano Rajoy va a ganar\"\n",
      "\n",
      "hab1\teso ya nadie lo discute\n",
      "\n"
     ]
    }
   ],
   "source": [
    "for i in range(0,10):\n",
    "    print(lista[i])"
   ]
  },
  {
   "cell_type": "markdown",
   "id": "df55daeb",
   "metadata": {},
   "source": [
    "Primera limpieza de la data `eslora-txt`. Se eliminan los tags y las comillas. Se toman las preguntas y respuestas de las lineas contiguas."
   ]
  },
  {
   "cell_type": "code",
   "execution_count": 11,
   "id": "0f887831",
   "metadata": {},
   "outputs": [],
   "source": [
    "total = []\n",
    "for i in range(1,84):\n",
    "    f = open(str(i)+\".txt\", encoding=\"utf-8\")\n",
    "    lista = []\n",
    "    for linea in f:\n",
    "        lista.append(linea)\n",
    "    f.close()\n",
    "    for j in range(len(lista)):\n",
    "        lista[j] = re.sub('<[^>]*>|\"|hab\\d|\\t', '', lista[j])\n",
    "\n",
    "    for j in range(len(lista)):\n",
    "        lista[j] = lista[j].strip()\n",
    "        \n",
    "    x = 1\n",
    "    while x :\n",
    "        try :\n",
    "            lista.remove('')\n",
    "        except ValueError:\n",
    "            x = 0\n",
    "            \n",
    "    for j in range(len(lista)-1):\n",
    "        total.append(lista[j]+'\\t'+lista[j+1])"
   ]
  },
  {
   "cell_type": "code",
   "execution_count": 5,
   "id": "d52c4104",
   "metadata": {
    "scrolled": false
   },
   "outputs": [
    {
     "data": {
      "text/plain": [
       "['me acuerdo no sé si era italiano o por ahí\\tuh hm hm',\n",
       " 'uh hm hm\\tqué depresión Dios',\n",
       " 'qué depresión Dios\\tabrió el Enate',\n",
       " 'abrió el Enate\\tpero  ¿qué?  ¿qué decía?',\n",
       " 'pero  ¿qué?  ¿qué decía?\\tsí  vale',\n",
       " 'sí  vale\\tsí',\n",
       " 'sí\\t¿qué decía?',\n",
       " '¿qué decía?\\tbueno  está claro que Mariano Rajoy va a ganar',\n",
       " 'bueno  está claro que Mariano Rajoy va a ganar\\teso ya nadie lo discute',\n",
       " 'eso ya nadie lo discute\\tsí  bueno  sí']"
      ]
     },
     "execution_count": 5,
     "metadata": {},
     "output_type": "execute_result"
    }
   ],
   "source": [
    "total[0:10]"
   ]
  },
  {
   "cell_type": "markdown",
   "id": "3d52ff64",
   "metadata": {},
   "source": [
    "Finalmente se guarda la data en `eslora.txt`."
   ]
  },
  {
   "cell_type": "code",
   "execution_count": 4,
   "id": "3b9cf1a2",
   "metadata": {},
   "outputs": [],
   "source": [
    "with open('eslora.txt', 'w', encoding=\"utf-8\") as temporal:\n",
    "    for i in total:\n",
    "        temporal.write(\"%s\\n\" % i)"
   ]
  }
 ],
 "metadata": {
  "kernelspec": {
   "display_name": "Python 3",
   "language": "python",
   "name": "python3"
  },
  "language_info": {
   "codemirror_mode": {
    "name": "ipython",
    "version": 3
   },
   "file_extension": ".py",
   "mimetype": "text/x-python",
   "name": "python",
   "nbconvert_exporter": "python",
   "pygments_lexer": "ipython3",
   "version": "3.8.8"
  }
 },
 "nbformat": 4,
 "nbformat_minor": 5
}
